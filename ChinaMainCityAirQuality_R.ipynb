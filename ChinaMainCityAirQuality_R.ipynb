{
 "cells": [
  {
   "cell_type": "code",
   "execution_count": 1,
   "metadata": {},
   "outputs": [
    {
     "name": "stderr",
     "output_type": "stream",
     "text": [
      "Loading required package: tidyr\n",
      "\n",
      "Loading required package: ggplot2\n",
      "\n"
     ]
    }
   ],
   "source": [
    ".libPaths('B:/codework/study/renv/library/R-4.0/x86_64-w64-mingw32')\n",
    "options(repr.plot.width=14, repr.plot.height=6)\n",
    "require('tidyr')\n",
    "require('ggplot2')"
   ]
  },
  {
   "cell_type": "code",
   "execution_count": 2,
   "metadata": {},
   "outputs": [],
   "source": [
    "wuhan2015 <- read.csv('./input/武汉2015.csv',col.names = c('Date', 'AQI', 'level', 'PM25', 'PM10', 'SO2', 'CO', 'NO2', 'O3_8h'))\n",
    "wuhan2015$index <- as.integer(rownames(wuhan2015))"
   ]
  },
  {
   "cell_type": "code",
   "execution_count": 3,
   "metadata": {
    "scrolled": false
   },
   "outputs": [
    {
     "data": {
      "text/html": [
       "<table class=\"dataframe\">\n",
       "<caption>A data.frame: 6 × 10</caption>\n",
       "<thead>\n",
       "\t<tr><th></th><th scope=col>Date</th><th scope=col>AQI</th><th scope=col>level</th><th scope=col>PM25</th><th scope=col>PM10</th><th scope=col>SO2</th><th scope=col>CO</th><th scope=col>NO2</th><th scope=col>O3_8h</th><th scope=col>index</th></tr>\n",
       "\t<tr><th></th><th scope=col>&lt;chr&gt;</th><th scope=col>&lt;int&gt;</th><th scope=col>&lt;chr&gt;</th><th scope=col>&lt;int&gt;</th><th scope=col>&lt;int&gt;</th><th scope=col>&lt;int&gt;</th><th scope=col>&lt;dbl&gt;</th><th scope=col>&lt;int&gt;</th><th scope=col>&lt;int&gt;</th><th scope=col>&lt;int&gt;</th></tr>\n",
       "</thead>\n",
       "<tbody>\n",
       "\t<tr><th scope=row>1</th><td>2015-01-02</td><td>110</td><td>轻度污染</td><td> 83</td><td>144</td><td>56</td><td>1.4</td><td> 79</td><td>20</td><td>1</td></tr>\n",
       "\t<tr><th scope=row>2</th><td>2015-01-03</td><td>144</td><td>轻度污染</td><td>110</td><td>182</td><td>43</td><td>1.6</td><td> 89</td><td>44</td><td>2</td></tr>\n",
       "\t<tr><th scope=row>3</th><td>2015-01-04</td><td>176</td><td>中度污染</td><td>133</td><td>216</td><td>70</td><td>1.9</td><td>117</td><td>37</td><td>3</td></tr>\n",
       "\t<tr><th scope=row>4</th><td>2015-01-05</td><td>203</td><td>重度污染</td><td>153</td><td>169</td><td>62</td><td>1.8</td><td> 95</td><td>15</td><td>4</td></tr>\n",
       "\t<tr><th scope=row>5</th><td>2015-01-06</td><td>285</td><td>重度污染</td><td>235</td><td>119</td><td>45</td><td>2.4</td><td> 69</td><td>19</td><td>5</td></tr>\n",
       "\t<tr><th scope=row>6</th><td>2015-01-07</td><td>168</td><td>中度污染</td><td>128</td><td>152</td><td>31</td><td>2.0</td><td> 69</td><td>41</td><td>6</td></tr>\n",
       "</tbody>\n",
       "</table>\n"
      ],
      "text/latex": [
       "A data.frame: 6 × 10\n",
       "\\begin{tabular}{r|llllllllll}\n",
       "  & Date & AQI & level & PM25 & PM10 & SO2 & CO & NO2 & O3\\_8h & index\\\\\n",
       "  & <chr> & <int> & <chr> & <int> & <int> & <int> & <dbl> & <int> & <int> & <int>\\\\\n",
       "\\hline\n",
       "\t1 & 2015-01-02 & 110 & 轻度污染 &  83 & 144 & 56 & 1.4 &  79 & 20 & 1\\\\\n",
       "\t2 & 2015-01-03 & 144 & 轻度污染 & 110 & 182 & 43 & 1.6 &  89 & 44 & 2\\\\\n",
       "\t3 & 2015-01-04 & 176 & 中度污染 & 133 & 216 & 70 & 1.9 & 117 & 37 & 3\\\\\n",
       "\t4 & 2015-01-05 & 203 & 重度污染 & 153 & 169 & 62 & 1.8 &  95 & 15 & 4\\\\\n",
       "\t5 & 2015-01-06 & 285 & 重度污染 & 235 & 119 & 45 & 2.4 &  69 & 19 & 5\\\\\n",
       "\t6 & 2015-01-07 & 168 & 中度污染 & 128 & 152 & 31 & 2.0 &  69 & 41 & 6\\\\\n",
       "\\end{tabular}\n"
      ],
      "text/markdown": [
       "\n",
       "A data.frame: 6 × 10\n",
       "\n",
       "| <!--/--> | Date &lt;chr&gt; | AQI &lt;int&gt; | level &lt;chr&gt; | PM25 &lt;int&gt; | PM10 &lt;int&gt; | SO2 &lt;int&gt; | CO &lt;dbl&gt; | NO2 &lt;int&gt; | O3_8h &lt;int&gt; | index &lt;int&gt; |\n",
       "|---|---|---|---|---|---|---|---|---|---|---|\n",
       "| 1 | 2015-01-02 | 110 | 轻度污染 |  83 | 144 | 56 | 1.4 |  79 | 20 | 1 |\n",
       "| 2 | 2015-01-03 | 144 | 轻度污染 | 110 | 182 | 43 | 1.6 |  89 | 44 | 2 |\n",
       "| 3 | 2015-01-04 | 176 | 中度污染 | 133 | 216 | 70 | 1.9 | 117 | 37 | 3 |\n",
       "| 4 | 2015-01-05 | 203 | 重度污染 | 153 | 169 | 62 | 1.8 |  95 | 15 | 4 |\n",
       "| 5 | 2015-01-06 | 285 | 重度污染 | 235 | 119 | 45 | 2.4 |  69 | 19 | 5 |\n",
       "| 6 | 2015-01-07 | 168 | 中度污染 | 128 | 152 | 31 | 2.0 |  69 | 41 | 6 |\n",
       "\n"
      ],
      "text/plain": [
       "  Date       AQI level    PM25 PM10 SO2 CO  NO2 O3_8h index\n",
       "1 2015-01-02 110 轻度污染  83  144  56  1.4  79 20    1    \n",
       "2 2015-01-03 144 轻度污染 110  182  43  1.6  89 44    2    \n",
       "3 2015-01-04 176 中度污染 133  216  70  1.9 117 37    3    \n",
       "4 2015-01-05 203 重度污染 153  169  62  1.8  95 15    4    \n",
       "5 2015-01-06 285 重度污染 235  119  45  2.4  69 19    5    \n",
       "6 2015-01-07 168 中度污染 128  152  31  2.0  69 41    6    "
      ]
     },
     "metadata": {},
     "output_type": "display_data"
    },
    {
     "data": {
      "text/plain": [
       "     Date                AQI           level                PM25       \n",
       " Length:363         Min.   : 23.0   Length:363         Min.   : 11.00  \n",
       " Class :character   1st Qu.: 68.5   Class :character   1st Qu.: 41.50  \n",
       " Mode  :character   Median : 97.0   Mode  :character   Median : 57.00  \n",
       "                    Mean   :103.3                      Mean   : 68.62  \n",
       "                    3rd Qu.:127.5                      3rd Qu.: 84.00  \n",
       "                    Max.   :334.0                      Max.   :284.00  \n",
       "      PM10            SO2              CO             NO2        \n",
       " Min.   :  4.0   Min.   : 6.00   Min.   :0.400   Min.   : 13.00  \n",
       " 1st Qu.: 66.5   1st Qu.:13.00   1st Qu.:0.900   1st Qu.: 34.50  \n",
       " Median : 98.0   Median :17.00   Median :1.100   Median : 46.00  \n",
       " Mean   :105.0   Mean   :19.86   Mean   :1.107   Mean   : 49.59  \n",
       " 3rd Qu.:137.0   3rd Qu.:24.00   3rd Qu.:1.300   3rd Qu.: 60.00  \n",
       " Max.   :333.0   Max.   :70.00   Max.   :2.700   Max.   :119.00  \n",
       "     O3_8h            index      \n",
       " Min.   :  8.00   Min.   :  1.0  \n",
       " 1st Qu.: 51.50   1st Qu.: 91.5  \n",
       " Median : 90.00   Median :182.0  \n",
       " Mean   : 95.85   Mean   :182.0  \n",
       " 3rd Qu.:136.50   3rd Qu.:272.5  \n",
       " Max.   :232.00   Max.   :363.0  "
      ]
     },
     "metadata": {},
     "output_type": "display_data"
    }
   ],
   "source": [
    "head(wuhan2015)\n",
    "summary(wuhan2015)"
   ]
  },
  {
   "cell_type": "code",
   "execution_count": 4,
   "metadata": {},
   "outputs": [
    {
     "data": {
      "text/plain": [
       "\n",
       "Call:\n",
       "lm(formula = PM25 ~ index, data = wuhan2015)\n",
       "\n",
       "Residuals:\n",
       "    Min      1Q  Median      3Q     Max \n",
       "-56.386 -28.886  -9.448  15.396 229.053 \n",
       "\n",
       "Coefficients:\n",
       "            Estimate Std. Error t value Pr(>|t|)    \n",
       "(Intercept) 82.83923    4.32277  19.163  < 2e-16 ***\n",
       "index       -0.07813    0.02058  -3.796 0.000173 ***\n",
       "---\n",
       "Signif. codes:  0 '***' 0.001 '**' 0.01 '*' 0.05 '.' 0.1 ' ' 1\n",
       "\n",
       "Residual standard error: 41.09 on 361 degrees of freedom\n",
       "Multiple R-squared:  0.03838,\tAdjusted R-squared:  0.03571 \n",
       "F-statistic: 14.41 on 1 and 361 DF,  p-value: 0.0001726\n"
      ]
     },
     "metadata": {},
     "output_type": "display_data"
    }
   ],
   "source": [
    "lr1 <- lm(formula = PM25~index,data = wuhan2015)\n",
    "summary(lr1)"
   ]
  },
  {
   "cell_type": "code",
   "execution_count": 5,
   "metadata": {},
   "outputs": [
    {
     "data": {
      "text/plain": [
       "\n",
       "Call:\n",
       "lm(formula = PM25 ~ index + I(index^2), data = wuhan2015)\n",
       "\n",
       "Residuals:\n",
       "    Min      1Q  Median      3Q     Max \n",
       "-84.837 -18.613  -2.811  15.101 176.057 \n",
       "\n",
       "Coefficients:\n",
       "              Estimate Std. Error t value Pr(>|t|)    \n",
       "(Intercept)  1.426e+02  4.971e+00   28.68   <2e-16 ***\n",
       "index       -1.060e+00  6.306e-02  -16.81   <2e-16 ***\n",
       "I(index^2)   2.698e-03  1.678e-04   16.08   <2e-16 ***\n",
       "---\n",
       "Signif. codes:  0 '***' 0.001 '**' 0.01 '*' 0.05 '.' 0.1 ' ' 1\n",
       "\n",
       "Residual standard error: 31.39 on 360 degrees of freedom\n",
       "Multiple R-squared:  0.4403,\tAdjusted R-squared:  0.4372 \n",
       "F-statistic: 141.6 on 2 and 360 DF,  p-value: < 2.2e-16\n"
      ]
     },
     "metadata": {},
     "output_type": "display_data"
    }
   ],
   "source": [
    "lr2 <- lm(formula = PM25~index+I(index^2),data = wuhan2015)\n",
    "summary(lr2)"
   ]
  },
  {
   "cell_type": "code",
   "execution_count": 6,
   "metadata": {},
   "outputs": [
    {
     "data": {
      "text/plain": [
       "\n",
       "Call:\n",
       "lm(formula = PM25 ~ index + I(index^2) + I(index^3), data = wuhan2015)\n",
       "\n",
       "Residuals:\n",
       "    Min      1Q  Median      3Q     Max \n",
       "-84.369 -18.408  -2.978  15.053 174.810 \n",
       "\n",
       "Coefficients:\n",
       "              Estimate Std. Error t value Pr(>|t|)    \n",
       "(Intercept)  1.410e+02  6.668e+00  21.143  < 2e-16 ***\n",
       "index       -1.008e+00  1.584e-01  -6.362 6.08e-10 ***\n",
       "I(index^2)   2.339e-03  1.011e-03   2.315   0.0212 *  \n",
       "I(index^3)   6.564e-07  1.825e-06   0.360   0.7193    \n",
       "---\n",
       "Signif. codes:  0 '***' 0.001 '**' 0.01 '*' 0.05 '.' 0.1 ' ' 1\n",
       "\n",
       "Residual standard error: 31.43 on 359 degrees of freedom\n",
       "Multiple R-squared:  0.4405,\tAdjusted R-squared:  0.4358 \n",
       "F-statistic: 94.22 on 3 and 359 DF,  p-value: < 2.2e-16\n"
      ]
     },
     "metadata": {},
     "output_type": "display_data"
    }
   ],
   "source": [
    "lr3 <- lm(formula = PM25~index+I(index^2)+I(index^3),data = wuhan2015)\n",
    "summary(lr3)"
   ]
  },
  {
   "cell_type": "code",
   "execution_count": 7,
   "metadata": {},
   "outputs": [
    {
     "data": {
      "text/html": [
       "3731.87525569431"
      ],
      "text/latex": [
       "3731.87525569431"
      ],
      "text/markdown": [
       "3731.87525569431"
      ],
      "text/plain": [
       "[1] 3731.875"
      ]
     },
     "metadata": {},
     "output_type": "display_data"
    },
    {
     "data": {
      "text/html": [
       "3537.3980590972"
      ],
      "text/latex": [
       "3537.3980590972"
      ],
      "text/markdown": [
       "3537.3980590972"
      ],
      "text/plain": [
       "[1] 3537.398"
      ]
     },
     "metadata": {},
     "output_type": "display_data"
    },
    {
     "data": {
      "text/html": [
       "3539.26729460821"
      ],
      "text/latex": [
       "3539.26729460821"
      ],
      "text/markdown": [
       "3539.26729460821"
      ],
      "text/plain": [
       "[1] 3539.267"
      ]
     },
     "metadata": {},
     "output_type": "display_data"
    }
   ],
   "source": [
    "AIC(lr1)\n",
    "AIC(lr2)\n",
    "AIC(lr3)"
   ]
  },
  {
   "cell_type": "code",
   "execution_count": 9,
   "metadata": {},
   "outputs": [
    {
     "data": {
      "text/html": [
       "40.9815123878704"
      ],
      "text/latex": [
       "40.9815123878704"
      ],
      "text/markdown": [
       "40.9815123878704"
      ],
      "text/plain": [
       "[1] 40.98151"
      ]
     },
     "metadata": {},
     "output_type": "display_data"
    },
    {
     "data": {
      "text/html": [
       "31.2647511079321"
      ],
      "text/latex": [
       "31.2647511079321"
      ],
      "text/markdown": [
       "31.2647511079321"
      ],
      "text/plain": [
       "[1] 31.26475"
      ]
     },
     "metadata": {},
     "output_type": "display_data"
    },
    {
     "data": {
      "text/html": [
       "31.2591203213789"
      ],
      "text/latex": [
       "31.2591203213789"
      ],
      "text/markdown": [
       "31.2591203213789"
      ],
      "text/plain": [
       "[1] 31.25912"
      ]
     },
     "metadata": {},
     "output_type": "display_data"
    }
   ],
   "source": [
    "sqrt(mean(lr1$residuals^2))\n",
    "sqrt(mean(lr2$residuals^2))\n",
    "sqrt(mean(lr3$residuals^2))"
   ]
  },
  {
   "cell_type": "code",
   "execution_count": 8,
   "metadata": {},
   "outputs": [
    {
     "data": {
      "image/png": "[encoded data removed]",
      "text/plain": [
       "plot without title"
      ]
     },
     "metadata": {
      "image/png": {
       "height": 360,
       "width": 840
      }
     },
     "output_type": "display_data"
    }
   ],
   "source": [
    "ggplot(wuhan2015,aes(index, PM25)) +\n",
    "    geom_point()+\n",
    "    geom_smooth(method='lm', formula= y~x+I(x^2))"
   ]
  }
 ],
 "metadata": {
  "kernelspec": {
   "display_name": "R",
   "language": "R",
   "name": "ir"
  },
  "language_info": {
   "codemirror_mode": "r",
   "file_extension": ".r",
   "mimetype": "text/x-r-source",
   "name": "R",
   "pygments_lexer": "r",
   "version": "4.0.3"
  },
  "toc": {
   "base_numbering": 1,
   "nav_menu": {},
   "number_sections": true,
   "sideBar": true,
   "skip_h1_title": false,
   "title_cell": "Table of Contents",
   "title_sidebar": "Contents",
   "toc_cell": false,
   "toc_position": {},
   "toc_section_display": true,
   "toc_window_display": false
  },
  "varInspector": {
   "cols": {
    "lenName": 16,
    "lenType": 16,
    "lenVar": 40
   },
   "kernels_config": {
    "python": {
     "delete_cmd_postfix": "",
     "delete_cmd_prefix": "del ",
     "library": "var_list.py",
     "varRefreshCmd": "print(var_dic_list())"
    },
    "r": {
     "delete_cmd_postfix": ") ",
     "delete_cmd_prefix": "rm(",
     "library": "var_list.r",
     "varRefreshCmd": "cat(var_dic_list()) "
    }
   },
   "types_to_exclude": [
    "module",
    "function",
    "builtin_function_or_method",
    "instance",
    "_Feature"
   ],
   "window_display": false
  }
 },
 "nbformat": 4,
 "nbformat_minor": 4
}
